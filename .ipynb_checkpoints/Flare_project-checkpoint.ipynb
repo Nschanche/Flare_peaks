{
 "metadata": {
  "name": "",
  "signature": "sha256:54168a9ad813fa497b88ed9c782baeb2339383efa03acf594bdf0b6be0cb9b8f"
 },
 "nbformat": 3,
 "nbformat_minor": 0,
 "worksheets": [
  {
   "cells": [
    {
     "cell_type": "raw",
     "metadata": {},
     "source": [
      "I created this new notebook since I was having a hard time opening the one Denver started earlier.  Check to make sure you can access this."
     ]
    }
   ],
   "metadata": {}
  }
 ]
}